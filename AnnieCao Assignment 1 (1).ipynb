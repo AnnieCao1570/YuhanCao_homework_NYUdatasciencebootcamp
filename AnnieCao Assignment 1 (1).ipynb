{
 "cells": [
  {
   "cell_type": "code",
   "execution_count": 2,
   "id": "e3ba4128",
   "metadata": {},
   "outputs": [
    {
     "name": "stdout",
     "output_type": "stream",
     "text": [
      "1,1,2,3,5,8,13,21,34,55,"
     ]
    }
   ],
   "source": [
    "a, b = 1, 1\n",
    "for _ in range(1,11):\n",
    "    print(a, end=\",\")\n",
    "    a, b=b, a + b"
   ]
  },
  {
   "cell_type": "code",
   "execution_count": 3,
   "id": "430f4501",
   "metadata": {},
   "outputs": [
    {
     "name": "stdout",
     "output_type": "stream",
     "text": [
      "1,3,5,7,9,11,13,15,17,19,21,23,25,27,29,31,33,35,37,39,41,43,45,47,49,51,53,55,57,59,61,63,65,67,69,71,73,75,77,79,81,83,85,87,89,91,93,95,97,99,101,103,105,107,109,111,113,115,117,119,121,123,125,127,129,131,133,135,137,139,141,143,145,147,149,151,153,155,157,159,161,163,165,167,169,171,173,175,177,179,181,183,185,187,189,191,193,195,197,199,"
     ]
    }
   ],
   "source": [
    "a=1\n",
    "for item in range (1,101):\n",
    "    print (a, end=\",\")\n",
    "    a=a+2"
   ]
  },
  {
   "cell_type": "code",
   "execution_count": 4,
   "id": "6f665d00",
   "metadata": {},
   "outputs": [
    {
     "name": "stdout",
     "output_type": "stream",
     "text": [
      "10,9,8,7,6,5,4,3,2,1,"
     ]
    }
   ],
   "source": [
    "a=10\n",
    "for item in range(1,11):\n",
    "    print(a, end=\",\")\n",
    "    a=a-1"
   ]
  },
  {
   "cell_type": "code",
   "execution_count": 5,
   "id": "1458853e",
   "metadata": {},
   "outputs": [
    {
     "name": "stdout",
     "output_type": "stream",
     "text": [
      "Number of different words= 47\n"
     ]
    }
   ],
   "source": [
    "text = \"\"\"\n",
    "ChatGPT has created this text to provide tips on creating interesting paragraphs. \n",
    "First, start with a clear topic sentence that introduces the main idea. \n",
    "Then, support the topic sentence with specific details, examples, and evidence.\n",
    "Vary the sentence length and structure to keep the reader engaged.\n",
    "Finally, end with a strong concluding sentence that summarizes the main points.\n",
    "Remember, practice makes perfect!\n",
    "\"\"\"\n",
    "words = text.split()\n",
    "unique_words = set(words)\n",
    "count=len(unique_words)\n",
    "print(\"Number of different words=\",count)"
   ]
  },
  {
   "cell_type": "code",
   "execution_count": 6,
   "id": "b5190c29",
   "metadata": {},
   "outputs": [
    {
     "name": "stdout",
     "output_type": "stream",
     "text": [
      "Enter a word: number\n",
      "Number of vowels in the entered word is: 2\n"
     ]
    }
   ],
   "source": [
    "def count_vowels_in_word():\n",
    "    vowels = set(\"aeiouAEIOU\")\n",
    "    word = input(\"Enter a word: \")\n",
    "    vowel_count = 0\n",
    "    for char in word:\n",
    "        if char in vowels:\n",
    "            vowel_count += 1\n",
    "    return vowel_count\n",
    "result = count_vowels_in_word()\n",
    "print(\"Number of vowels in the entered word is:\", result)"
   ]
  },
  {
   "cell_type": "code",
   "execution_count": 9,
   "id": "d77a1759",
   "metadata": {},
   "outputs": [
    {
     "name": "stdout",
     "output_type": "stream",
     "text": [
      "TIGER,ELEPHANT,MONKEY,ZEBRA,PANTHER,"
     ]
    }
   ],
   "source": [
    "animals = ['tiger', 'elephant', 'monkey', 'zebra', 'panther']\n",
    "for item in animals:\n",
    "    print(item.upper(),end=\",\")"
   ]
  },
  {
   "cell_type": "code",
   "execution_count": 10,
   "id": "222c79c0",
   "metadata": {},
   "outputs": [
    {
     "name": "stdout",
     "output_type": "stream",
     "text": [
      "odd number: 1\n",
      "even number: 2\n",
      "odd number: 3\n",
      "even number: 4\n",
      "odd number: 5\n",
      "even number: 6\n",
      "odd number: 7\n",
      "even number: 8\n",
      "odd number: 9\n",
      "even number: 10\n",
      "odd number: 11\n",
      "even number: 12\n",
      "odd number: 13\n",
      "even number: 14\n",
      "odd number: 15\n"
     ]
    }
   ],
   "source": [
    "for a in range(1,16):\n",
    "    if a%2==1:\n",
    "        print(\"odd number:\",a)\n",
    "    else:\n",
    "        print(\"even number:\",a)"
   ]
  },
  {
   "cell_type": "code",
   "execution_count": 11,
   "id": "92a3844a",
   "metadata": {},
   "outputs": [
    {
     "name": "stdout",
     "output_type": "stream",
     "text": [
      "Enter the first integer: 45\n",
      "Enter the second integer: 76\n",
      "The sum of 45 and 76 is: 121\n"
     ]
    }
   ],
   "source": [
    "number1 = int(input(\"Enter the first integer: \"))\n",
    "number2 = int(input(\"Enter the second integer: \"))\n",
    "sum = number1 + number2\n",
    "print(\"The sum of\", number1, \"and\", number2, \"is:\", sum)"
   ]
  },
  {
   "cell_type": "code",
   "execution_count": null,
   "id": "1557be3b",
   "metadata": {},
   "outputs": [],
   "source": []
  }
 ],
 "metadata": {
  "kernelspec": {
   "display_name": "Python 3",
   "language": "python",
   "name": "python3"
  },
  "language_info": {
   "codemirror_mode": {
    "name": "ipython",
    "version": 3
   },
   "file_extension": ".py",
   "mimetype": "text/x-python",
   "name": "python",
   "nbconvert_exporter": "python",
   "pygments_lexer": "ipython3",
   "version": "3.8.8"
  }
 },
 "nbformat": 4,
 "nbformat_minor": 5
}
